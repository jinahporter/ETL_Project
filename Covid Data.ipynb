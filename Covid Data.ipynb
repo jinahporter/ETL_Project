{
 "cells": [
  {
   "cell_type": "code",
   "execution_count": null,
   "metadata": {},
   "outputs": [],
   "source": [
    "import os\n",
    "import pandas as pd\n",
    "import numpy as np\n",
    "import requests\n",
    "from pprint import pprint\n",
    "from bs4 import BeautifulSoup\n",
    "from sqlalchemy import create_engine\n",
    "from config import password"
   ]
  },
  {
   "cell_type": "code",
   "execution_count": null,
   "metadata": {},
   "outputs": [],
   "source": [
    "# Get api data\n",
    "url = \"https://api.covidtracking.com/v1/states/current.json\"\n",
    "response = requests.get(url).json()"
   ]
  },
  {
   "cell_type": "code",
   "execution_count": null,
   "metadata": {},
   "outputs": [],
   "source": [
    "# Get data for  dataframe\n",
    "# Determine the length of the response so we can use that for the number of states/territories\n",
    "len(response)\n",
    "num_state = range(0,56)\n",
    "# Create empty lists\n",
    "state = []\n",
    "date = []\n",
    "death = []\n",
    "# Honestly, was super proud of this part bc i am BAD AT FOR LOOPS but Google/Zed Shaw is my religion now\n",
    "# Create for loop to get the data that we need  for state, date, and death\n",
    "for i in num_state:\n",
    "    (print(response[i][\"state\"]))\n",
    "    state.append(response[i][\"state\"])\n",
    "    (print(response[i][\"date\"]))\n",
    "    date.append(response[i][\"date\"])\n",
    "    (print(response[i][\"deathConfirmed\"]))\n",
    "    death.append(response[i][\"death\"])"
   ]
  },
  {
   "cell_type": "code",
   "execution_count": null,
   "metadata": {},
   "outputs": [],
   "source": [
    "# Create covid dataframe ffrom api data\n",
    "covid_deaths = pd.DataFrame({\"state\":state, \"date\": date, \"death\":death})\n",
    "covid_deaths.head()"
   ]
  },
  {
   "cell_type": "code",
   "execution_count": null,
   "metadata": {},
   "outputs": [],
   "source": [
    "# Import csv that includes data for Total Cases by state\n",
    "# Filepath\n",
    "csv_filepath = os.path.join(\"data\",\"cdc_covid.csv\")\n",
    "# Read csv into DataFrame\n",
    "covid_cases = pd.read_csv(csv_filepath)\n",
    "# Review head and shape\n",
    "covid_cases.head()\n",
    "covid_cases.shape"
   ]
  },
  {
   "cell_type": "code",
   "execution_count": null,
   "metadata": {},
   "outputs": [],
   "source": [
    "# Drop unnecessary columns from covid_cases\n",
    "covid_cases = covid_cases.drop(columns = [\"Confirmed Cases\", \"Total Deaths\", \"Probable Cases\", \"Cases in Last 7 Days\", \"Case Rate per 100000\", \"Confirmed Deaths\", \"Probable Deaths\", \"Deaths in Last 7 Days\", \"Death Rate per 100000\", \"Case Rate per 100000 in Last 7 Days\", \"Death Rate per 100K in Last 7 Days\"])\n",
    "# Review head\n",
    "covid_cases.head()"
   ]
  },
  {
   "cell_type": "code",
   "execution_count": null,
   "metadata": {},
   "outputs": [],
   "source": [
    "# Read in table to convert state name to state code\n",
    "# Filepaths\n",
    "state_csv = os.path.join(\"data\",\"csvData.csv\")\n",
    "# Read csv into DataFrame\n",
    "state_table = pd.read_csv(state_csv)"
   ]
  },
  {
   "cell_type": "code",
   "execution_count": null,
   "metadata": {},
   "outputs": [],
   "source": [
    "state_table.head()"
   ]
  },
  {
   "cell_type": "code",
   "execution_count": null,
   "metadata": {},
   "outputs": [],
   "source": [
    "covid_deaths_state = pd.merge(covid_deaths, state_table, left_on=\"state\", right_on=\"Code\", how=\"inner\")"
   ]
  },
  {
   "cell_type": "code",
   "execution_count": null,
   "metadata": {},
   "outputs": [],
   "source": [
    "covid_deaths_state.head()"
   ]
  },
  {
   "cell_type": "code",
   "execution_count": null,
   "metadata": {},
   "outputs": [],
   "source": [
    "final_data = pd.merge(covid_deaths_state, covid_cases, left_on=\"State\", right_on=\"State/Territory\", how=\"inner\")\n",
    "final_data.head()"
   ]
  },
  {
   "cell_type": "code",
   "execution_count": null,
   "metadata": {},
   "outputs": [],
   "source": [
    "# Limit the columns of the final data\n",
    "final_data = final_data[[\"State/Territory\", \"date\", \"Code\", \"death\", \"Total Cases\"]]\n",
    "final_data.head()"
   ]
  },
  {
   "cell_type": "code",
   "execution_count": null,
   "metadata": {},
   "outputs": [],
   "source": [
    "# Rename columns in preparation for Postgres connection\n",
    "final_data = final_data.rename(columns = {\"State/Territory\": \"state\", \"Total Cases\": \"total_cases\", \"Code\": \"code\"})\n",
    "final_data.head()"
   ]
  },
  {
   "cell_type": "code",
   "execution_count": null,
   "metadata": {},
   "outputs": [],
   "source": [
    "# Convert date column to actual date\n",
    "final_data['date'] = pd.to_datetime(final_data['date'].astype(str), format='%Y%m%d')\n",
    "final_data.head()"
   ]
  },
  {
   "cell_type": "code",
   "execution_count": null,
   "metadata": {},
   "outputs": [],
   "source": [
    "final_data.code.unique"
   ]
  },
  {
   "cell_type": "code",
   "execution_count": null,
   "metadata": {},
   "outputs": [],
   "source": [
    "# Connect to database\n",
    "pg_user = \"postgres\"\n",
    "pg_password = password\n",
    "db_name = \"covid_ETL\"\n",
    "connection_string = f\"{pg_user}:{password}@localhost:5432/{db_name}\"\n",
    "engine = create_engine(f\"postgresql://{connection_string}\")"
   ]
  },
  {
   "cell_type": "code",
   "execution_count": null,
   "metadata": {},
   "outputs": [],
   "source": [
    "engine.table_names()"
   ]
  },
  {
   "cell_type": "code",
   "execution_count": null,
   "metadata": {},
   "outputs": [],
   "source": [
    "final_data.to_sql(name=\"covid_table\", con=engine, if_exists=\"append\", index=False)"
   ]
  },
  {
   "cell_type": "code",
   "execution_count": null,
   "metadata": {},
   "outputs": [],
   "source": []
  }
 ],
 "metadata": {
  "kernelspec": {
   "display_name": "Python 3",
   "language": "python",
   "name": "python3"
  },
  "language_info": {
   "codemirror_mode": {
    "name": "ipython",
    "version": 3
   },
   "file_extension": ".py",
   "mimetype": "text/x-python",
   "name": "python",
   "nbconvert_exporter": "python",
   "pygments_lexer": "ipython3",
   "version": "3.7.6"
  }
 },
 "nbformat": 4,
 "nbformat_minor": 4
}
