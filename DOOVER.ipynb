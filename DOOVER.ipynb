{
 "cells": [
  {
   "cell_type": "code",
   "execution_count": 8,
   "metadata": {},
   "outputs": [],
   "source": [
    "import os\n",
    "import pandas as pd\n",
    "import numpy as np\n",
    "import requests\n",
    "from pprint import pprint\n",
    "from bs4 import BeautifulSoup"
   ]
  },
  {
   "cell_type": "code",
   "execution_count": 9,
   "metadata": {},
   "outputs": [
    {
     "data": {
      "text/html": [
       "<div>\n",
       "<style scoped>\n",
       "    .dataframe tbody tr th:only-of-type {\n",
       "        vertical-align: middle;\n",
       "    }\n",
       "\n",
       "    .dataframe tbody tr th {\n",
       "        vertical-align: top;\n",
       "    }\n",
       "\n",
       "    .dataframe thead th {\n",
       "        text-align: right;\n",
       "    }\n",
       "</style>\n",
       "<table border=\"1\" class=\"dataframe\">\n",
       "  <thead>\n",
       "    <tr style=\"text-align: right;\">\n",
       "      <th></th>\n",
       "      <th>State/Territory</th>\n",
       "      <th>Total Cases</th>\n",
       "      <th>Confirmed Cases</th>\n",
       "      <th>Probable Cases</th>\n",
       "      <th>Cases in Last 7 Days</th>\n",
       "      <th>Case Rate per 100000</th>\n",
       "      <th>Total Deaths</th>\n",
       "      <th>Confirmed Deaths</th>\n",
       "      <th>Probable Deaths</th>\n",
       "      <th>Deaths in Last 7 Days</th>\n",
       "      <th>Death Rate per 100000</th>\n",
       "      <th>Case Rate per 100000 in Last 7 Days</th>\n",
       "      <th>Death Rate per 100K in Last 7 Days</th>\n",
       "    </tr>\n",
       "  </thead>\n",
       "  <tbody>\n",
       "    <tr>\n",
       "      <th>0</th>\n",
       "      <td>Alaska</td>\n",
       "      <td>12118</td>\n",
       "      <td>NaN</td>\n",
       "      <td>NaN</td>\n",
       "      <td>1569</td>\n",
       "      <td>1643</td>\n",
       "      <td>68</td>\n",
       "      <td>NaN</td>\n",
       "      <td>NaN</td>\n",
       "      <td>2</td>\n",
       "      <td>9</td>\n",
       "      <td>30.4</td>\n",
       "      <td>0.0</td>\n",
       "    </tr>\n",
       "    <tr>\n",
       "      <th>1</th>\n",
       "      <td>Alabama</td>\n",
       "      <td>180916</td>\n",
       "      <td>155915.0</td>\n",
       "      <td>25001.0</td>\n",
       "      <td>10542</td>\n",
       "      <td>3701</td>\n",
       "      <td>2859</td>\n",
       "      <td>2674.0</td>\n",
       "      <td>185.0</td>\n",
       "      <td>73</td>\n",
       "      <td>58</td>\n",
       "      <td>30.8</td>\n",
       "      <td>0.2</td>\n",
       "    </tr>\n",
       "    <tr>\n",
       "      <th>2</th>\n",
       "      <td>Arkansas</td>\n",
       "      <td>104135</td>\n",
       "      <td>NaN</td>\n",
       "      <td>NaN</td>\n",
       "      <td>6596</td>\n",
       "      <td>3455</td>\n",
       "      <td>1782</td>\n",
       "      <td>NaN</td>\n",
       "      <td>NaN</td>\n",
       "      <td>117</td>\n",
       "      <td>59</td>\n",
       "      <td>31.3</td>\n",
       "      <td>0.6</td>\n",
       "    </tr>\n",
       "    <tr>\n",
       "      <th>3</th>\n",
       "      <td>American Samoa</td>\n",
       "      <td>0</td>\n",
       "      <td>NaN</td>\n",
       "      <td>NaN</td>\n",
       "      <td>0</td>\n",
       "      <td>0</td>\n",
       "      <td>0</td>\n",
       "      <td>NaN</td>\n",
       "      <td>NaN</td>\n",
       "      <td>0</td>\n",
       "      <td>0</td>\n",
       "      <td>0.0</td>\n",
       "      <td>0.0</td>\n",
       "    </tr>\n",
       "    <tr>\n",
       "      <th>4</th>\n",
       "      <td>Arizona</td>\n",
       "      <td>235882</td>\n",
       "      <td>230488.0</td>\n",
       "      <td>5394.0</td>\n",
       "      <td>6396</td>\n",
       "      <td>3289</td>\n",
       "      <td>5865</td>\n",
       "      <td>5578.0</td>\n",
       "      <td>287.0</td>\n",
       "      <td>59</td>\n",
       "      <td>81</td>\n",
       "      <td>12.7</td>\n",
       "      <td>0.1</td>\n",
       "    </tr>\n",
       "  </tbody>\n",
       "</table>\n",
       "</div>"
      ],
      "text/plain": [
       "  State/Territory  Total Cases  Confirmed Cases  Probable Cases  \\\n",
       "0          Alaska        12118              NaN             NaN   \n",
       "1         Alabama       180916         155915.0         25001.0   \n",
       "2        Arkansas       104135              NaN             NaN   \n",
       "3  American Samoa            0              NaN             NaN   \n",
       "4         Arizona       235882         230488.0          5394.0   \n",
       "\n",
       "   Cases in Last 7 Days  Case Rate per 100000  Total Deaths  Confirmed Deaths  \\\n",
       "0                  1569                  1643            68               NaN   \n",
       "1                 10542                  3701          2859            2674.0   \n",
       "2                  6596                  3455          1782               NaN   \n",
       "3                     0                     0             0               NaN   \n",
       "4                  6396                  3289          5865            5578.0   \n",
       "\n",
       "   Probable Deaths  Deaths in Last 7 Days  Death Rate per 100000  \\\n",
       "0              NaN                      2                      9   \n",
       "1            185.0                     73                     58   \n",
       "2              NaN                    117                     59   \n",
       "3              NaN                      0                      0   \n",
       "4            287.0                     59                     81   \n",
       "\n",
       "   Case Rate per 100000 in Last 7 Days  Death Rate per 100K in Last 7 Days  \n",
       "0                                 30.4                                 0.0  \n",
       "1                                 30.8                                 0.2  \n",
       "2                                 31.3                                 0.6  \n",
       "3                                  0.0                                 0.0  \n",
       "4                                 12.7                                 0.1  "
      ]
     },
     "execution_count": 9,
     "metadata": {},
     "output_type": "execute_result"
    }
   ],
   "source": [
    "# Filepaths\n",
    "covid_data = os.path.join(\"data\",\"cdc_covid.csv\")\n",
    "\n",
    "# Read csv into DataFrame\n",
    "data = pd.read_csv(covid_data)\n",
    "data.head()"
   ]
  },
  {
   "cell_type": "code",
   "execution_count": 10,
   "metadata": {},
   "outputs": [
    {
     "data": {
      "text/html": [
       "<div>\n",
       "<style scoped>\n",
       "    .dataframe tbody tr th:only-of-type {\n",
       "        vertical-align: middle;\n",
       "    }\n",
       "\n",
       "    .dataframe tbody tr th {\n",
       "        vertical-align: top;\n",
       "    }\n",
       "\n",
       "    .dataframe thead th {\n",
       "        text-align: right;\n",
       "    }\n",
       "</style>\n",
       "<table border=\"1\" class=\"dataframe\">\n",
       "  <thead>\n",
       "    <tr style=\"text-align: right;\">\n",
       "      <th></th>\n",
       "      <th>State/Territory</th>\n",
       "      <th>Total Cases</th>\n",
       "      <th>Confirmed Cases</th>\n",
       "      <th>Probable Cases</th>\n",
       "      <th>Total Deaths</th>\n",
       "    </tr>\n",
       "  </thead>\n",
       "  <tbody>\n",
       "    <tr>\n",
       "      <th>0</th>\n",
       "      <td>Alaska</td>\n",
       "      <td>12118</td>\n",
       "      <td>NaN</td>\n",
       "      <td>NaN</td>\n",
       "      <td>68</td>\n",
       "    </tr>\n",
       "    <tr>\n",
       "      <th>1</th>\n",
       "      <td>Alabama</td>\n",
       "      <td>180916</td>\n",
       "      <td>155915.0</td>\n",
       "      <td>25001.0</td>\n",
       "      <td>2859</td>\n",
       "    </tr>\n",
       "    <tr>\n",
       "      <th>2</th>\n",
       "      <td>Arkansas</td>\n",
       "      <td>104135</td>\n",
       "      <td>NaN</td>\n",
       "      <td>NaN</td>\n",
       "      <td>1782</td>\n",
       "    </tr>\n",
       "    <tr>\n",
       "      <th>3</th>\n",
       "      <td>American Samoa</td>\n",
       "      <td>0</td>\n",
       "      <td>NaN</td>\n",
       "      <td>NaN</td>\n",
       "      <td>0</td>\n",
       "    </tr>\n",
       "    <tr>\n",
       "      <th>4</th>\n",
       "      <td>Arizona</td>\n",
       "      <td>235882</td>\n",
       "      <td>230488.0</td>\n",
       "      <td>5394.0</td>\n",
       "      <td>5865</td>\n",
       "    </tr>\n",
       "  </tbody>\n",
       "</table>\n",
       "</div>"
      ],
      "text/plain": [
       "  State/Territory  Total Cases  Confirmed Cases  Probable Cases  Total Deaths\n",
       "0          Alaska        12118              NaN             NaN            68\n",
       "1         Alabama       180916         155915.0         25001.0          2859\n",
       "2        Arkansas       104135              NaN             NaN          1782\n",
       "3  American Samoa            0              NaN             NaN             0\n",
       "4         Arizona       235882         230488.0          5394.0          5865"
      ]
     },
     "execution_count": 10,
     "metadata": {},
     "output_type": "execute_result"
    }
   ],
   "source": [
    "new_data = data.drop(columns = ['Cases in Last 7 Days', 'Case Rate per 100000', 'Confirmed Deaths', 'Probable Deaths', 'Deaths in Last 7 Days', 'Death Rate per 100000', 'Case Rate per 100000 in Last 7 Days', 'Death Rate per 100K in Last 7 Days'])\n",
    "new_data.head()"
   ]
  },
  {
   "cell_type": "code",
   "execution_count": 22,
   "metadata": {},
   "outputs": [],
   "source": [
    "url = \"https://covidtracking.com/data/national\"\n",
    "response = requests.get(url)"
   ]
  },
  {
   "cell_type": "code",
   "execution_count": null,
   "metadata": {},
   "outputs": [],
   "source": [
    "soup = BeautifulSoup(response.text, \"html.parser\")\n",
    "print(soup.prettify())"
   ]
  },
  {
   "cell_type": "code",
   "execution_count": 27,
   "metadata": {},
   "outputs": [
    {
     "name": "stdout",
     "output_type": "stream",
     "text": [
      "2493\n"
     ]
    }
   ],
   "source": [
    "results = soup.find_all('td', class_=\"\")\n",
    "print(len(results))\n"
   ]
  },
  {
   "cell_type": "code",
   "execution_count": 28,
   "metadata": {},
   "outputs": [
    {
     "name": "stdout",
     "output_type": "stream",
     "text": [
      "<td class=\"\">\n",
      " <span class=\"_0d5c\">\n",
      "  State (or territory)\n",
      " </span>\n",
      " <span>\n",
      "  56\n",
      " </span>\n",
      "</td>\n",
      "\n"
     ]
    }
   ],
   "source": [
    "print(results[0].prettify())"
   ]
  },
  {
   "cell_type": "code",
   "execution_count": null,
   "metadata": {},
   "outputs": [],
   "source": []
  }
 ],
 "metadata": {
  "kernelspec": {
   "display_name": "Python 3",
   "language": "python",
   "name": "python3"
  },
  "language_info": {
   "codemirror_mode": {
    "name": "ipython",
    "version": 3
   },
   "file_extension": ".py",
   "mimetype": "text/x-python",
   "name": "python",
   "nbconvert_exporter": "python",
   "pygments_lexer": "ipython3",
   "version": "3.8.3"
  }
 },
 "nbformat": 4,
 "nbformat_minor": 4
}
