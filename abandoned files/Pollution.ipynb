{
 "cells": [
  {
   "cell_type": "markdown",
   "metadata": {},
   "source": [
    "### Pollution Data Workup"
   ]
  },
  {
   "cell_type": "code",
   "execution_count": 1,
   "metadata": {},
   "outputs": [],
   "source": [
    "# Import dependencies\n",
    "import os\n",
    "import pandas as pd"
   ]
  },
  {
   "cell_type": "code",
   "execution_count": 2,
   "metadata": {},
   "outputs": [
    {
     "data": {
      "text/html": [
       "<div>\n",
       "<style scoped>\n",
       "    .dataframe tbody tr th:only-of-type {\n",
       "        vertical-align: middle;\n",
       "    }\n",
       "\n",
       "    .dataframe tbody tr th {\n",
       "        vertical-align: top;\n",
       "    }\n",
       "\n",
       "    .dataframe thead th {\n",
       "        text-align: right;\n",
       "    }\n",
       "</style>\n",
       "<table border=\"1\" class=\"dataframe\">\n",
       "  <thead>\n",
       "    <tr style=\"text-align: right;\">\n",
       "      <th></th>\n",
       "      <th>United States COVID-19 Cases and Deaths by State</th>\n",
       "      <th>Unnamed: 1</th>\n",
       "      <th>Unnamed: 2</th>\n",
       "      <th>Unnamed: 3</th>\n",
       "      <th>Unnamed: 4</th>\n",
       "      <th>Unnamed: 5</th>\n",
       "      <th>Unnamed: 6</th>\n",
       "      <th>Unnamed: 7</th>\n",
       "      <th>Unnamed: 8</th>\n",
       "      <th>Unnamed: 9</th>\n",
       "      <th>Unnamed: 10</th>\n",
       "      <th>Unnamed: 11</th>\n",
       "      <th>Unnamed: 12</th>\n",
       "    </tr>\n",
       "  </thead>\n",
       "  <tbody>\n",
       "    <tr>\n",
       "      <th>0</th>\n",
       "      <td>Date generated: Sun Oct 25 2020 12:12:56 GMT-0...</td>\n",
       "      <td>NaN</td>\n",
       "      <td>NaN</td>\n",
       "      <td>NaN</td>\n",
       "      <td>NaN</td>\n",
       "      <td>NaN</td>\n",
       "      <td>NaN</td>\n",
       "      <td>NaN</td>\n",
       "      <td>NaN</td>\n",
       "      <td>NaN</td>\n",
       "      <td>NaN</td>\n",
       "      <td>NaN</td>\n",
       "      <td>NaN</td>\n",
       "    </tr>\n",
       "    <tr>\n",
       "      <th>1</th>\n",
       "      <td>NaN</td>\n",
       "      <td>NaN</td>\n",
       "      <td>NaN</td>\n",
       "      <td>NaN</td>\n",
       "      <td>NaN</td>\n",
       "      <td>NaN</td>\n",
       "      <td>NaN</td>\n",
       "      <td>NaN</td>\n",
       "      <td>NaN</td>\n",
       "      <td>NaN</td>\n",
       "      <td>NaN</td>\n",
       "      <td>NaN</td>\n",
       "      <td>NaN</td>\n",
       "    </tr>\n",
       "    <tr>\n",
       "      <th>2</th>\n",
       "      <td>State/Territory</td>\n",
       "      <td>Total Cases</td>\n",
       "      <td>Confirmed Cases</td>\n",
       "      <td>Probable Cases</td>\n",
       "      <td>Cases in Last 7 Days</td>\n",
       "      <td>Case Rate per 100000</td>\n",
       "      <td>Total Deaths</td>\n",
       "      <td>Confirmed Deaths</td>\n",
       "      <td>Probable Deaths</td>\n",
       "      <td>Deaths in Last 7 Days</td>\n",
       "      <td>Death Rate per 100000</td>\n",
       "      <td>Case Rate per 100000 in Last 7 Days</td>\n",
       "      <td>Death Rate per 100K in Last 7 Days</td>\n",
       "    </tr>\n",
       "    <tr>\n",
       "      <th>3</th>\n",
       "      <td>Alaska</td>\n",
       "      <td>12118</td>\n",
       "      <td>NaN</td>\n",
       "      <td>NaN</td>\n",
       "      <td>1569</td>\n",
       "      <td>1643</td>\n",
       "      <td>68</td>\n",
       "      <td>NaN</td>\n",
       "      <td>NaN</td>\n",
       "      <td>2</td>\n",
       "      <td>9</td>\n",
       "      <td>30.4</td>\n",
       "      <td>0</td>\n",
       "    </tr>\n",
       "    <tr>\n",
       "      <th>4</th>\n",
       "      <td>Alabama</td>\n",
       "      <td>180916</td>\n",
       "      <td>155915</td>\n",
       "      <td>25001</td>\n",
       "      <td>10542</td>\n",
       "      <td>3701</td>\n",
       "      <td>2859</td>\n",
       "      <td>2674</td>\n",
       "      <td>185</td>\n",
       "      <td>73</td>\n",
       "      <td>58</td>\n",
       "      <td>30.8</td>\n",
       "      <td>0.2</td>\n",
       "    </tr>\n",
       "  </tbody>\n",
       "</table>\n",
       "</div>"
      ],
      "text/plain": [
       "    United States COVID-19 Cases and Deaths by State   Unnamed: 1  \\\n",
       "0  Date generated: Sun Oct 25 2020 12:12:56 GMT-0...          NaN   \n",
       "1                                                NaN          NaN   \n",
       "2                                    State/Territory  Total Cases   \n",
       "3                                             Alaska        12118   \n",
       "4                                            Alabama       180916   \n",
       "\n",
       "        Unnamed: 2      Unnamed: 3            Unnamed: 4  \\\n",
       "0              NaN             NaN                   NaN   \n",
       "1              NaN             NaN                   NaN   \n",
       "2  Confirmed Cases  Probable Cases  Cases in Last 7 Days   \n",
       "3              NaN             NaN                  1569   \n",
       "4           155915           25001                 10542   \n",
       "\n",
       "             Unnamed: 5    Unnamed: 6        Unnamed: 7       Unnamed: 8  \\\n",
       "0                   NaN           NaN               NaN              NaN   \n",
       "1                   NaN           NaN               NaN              NaN   \n",
       "2  Case Rate per 100000  Total Deaths  Confirmed Deaths  Probable Deaths   \n",
       "3                  1643            68               NaN              NaN   \n",
       "4                  3701          2859              2674              185   \n",
       "\n",
       "              Unnamed: 9            Unnamed: 10  \\\n",
       "0                    NaN                    NaN   \n",
       "1                    NaN                    NaN   \n",
       "2  Deaths in Last 7 Days  Death Rate per 100000   \n",
       "3                      2                      9   \n",
       "4                     73                     58   \n",
       "\n",
       "                           Unnamed: 11                         Unnamed: 12  \n",
       "0                                  NaN                                 NaN  \n",
       "1                                  NaN                                 NaN  \n",
       "2  Case Rate per 100000 in Last 7 Days  Death Rate per 100K in Last 7 Days  \n",
       "3                                 30.4                                   0  \n",
       "4                                 30.8                                 0.2  "
      ]
     },
     "execution_count": 2,
     "metadata": {},
     "output_type": "execute_result"
    }
   ],
   "source": [
    "# Filepaths\n",
    "covid_data = os.path.join(\"data\",\"cdc_covid.csv\")\n",
    "\n",
    "# Read csv into DataFrame\n",
    "data = pd.read_csv(covid_data)\n",
    "data.head()"
   ]
  },
  {
   "cell_type": "code",
   "execution_count": 4,
   "metadata": {},
   "outputs": [
    {
     "data": {
      "text/plain": [
       "United States COVID-19 Cases and Deaths by State    63\n",
       "Unnamed: 1                                          62\n",
       "Unnamed: 2                                          33\n",
       "Unnamed: 3                                          33\n",
       "Unnamed: 4                                          62\n",
       "Unnamed: 5                                          62\n",
       "Unnamed: 6                                          62\n",
       "Unnamed: 7                                          33\n",
       "Unnamed: 8                                          33\n",
       "Unnamed: 9                                          62\n",
       "Unnamed: 10                                         62\n",
       "Unnamed: 11                                         62\n",
       "Unnamed: 12                                         62\n",
       "dtype: int64"
      ]
     },
     "execution_count": 4,
     "metadata": {},
     "output_type": "execute_result"
    }
   ],
   "source": [
    "data.dropna(how=\"all\", inplace=True)\n",
    "data.count()\n",
    "#data[\"COVID-19 Deaths\"] = data[\"COVID-19 Deaths\"].str.replace(\",\",\"\", regex=True).astype('float')\n",
    "#data.head()"
   ]
  },
  {
   "cell_type": "code",
   "execution_count": null,
   "metadata": {},
   "outputs": [],
   "source": [
    "pollution_data.columns"
   ]
  },
  {
   "cell_type": "code",
   "execution_count": 4,
   "metadata": {},
   "outputs": [
    {
     "ename": "TypeError",
     "evalue": "string indices must be integers",
     "output_type": "error",
     "traceback": [
      "\u001b[0;31m---------------------------------------------------------------------------\u001b[0m",
      "\u001b[0;31mTypeError\u001b[0m                                 Traceback (most recent call last)",
      "\u001b[0;32m<ipython-input-4-f54edf55530f>\u001b[0m in \u001b[0;36m<module>\u001b[0;34m\u001b[0m\n\u001b[1;32m      1\u001b[0m \u001b[0;31m# Convert zip to string and and zfill to 5 digits\u001b[0m\u001b[0;34m\u001b[0m\u001b[0;34m\u001b[0m\u001b[0;34m\u001b[0m\u001b[0m\n\u001b[0;32m----> 2\u001b[0;31m \u001b[0mus_zipcode_data\u001b[0m\u001b[0;34m[\u001b[0m\u001b[0;34m\"zip\"\u001b[0m\u001b[0;34m]\u001b[0m \u001b[0;34m=\u001b[0m \u001b[0mus_zipcode_data\u001b[0m\u001b[0;34m[\u001b[0m\u001b[0;34m\"zip\"\u001b[0m\u001b[0;34m]\u001b[0m\u001b[0;34m.\u001b[0m\u001b[0mastype\u001b[0m\u001b[0;34m(\u001b[0m\u001b[0mstr\u001b[0m\u001b[0;34m)\u001b[0m\u001b[0;34m\u001b[0m\u001b[0;34m\u001b[0m\u001b[0m\n\u001b[0m\u001b[1;32m      3\u001b[0m \u001b[0mus_zipcode_data\u001b[0m\u001b[0;34m[\u001b[0m\u001b[0;34m\"zip\"\u001b[0m\u001b[0;34m]\u001b[0m \u001b[0;34m=\u001b[0m \u001b[0mus_zipcode_data\u001b[0m\u001b[0;34m[\u001b[0m\u001b[0;34m\"zip\"\u001b[0m\u001b[0;34m]\u001b[0m\u001b[0;34m.\u001b[0m\u001b[0mstr\u001b[0m\u001b[0;34m.\u001b[0m\u001b[0mzfill\u001b[0m\u001b[0;34m(\u001b[0m\u001b[0;36m5\u001b[0m\u001b[0;34m)\u001b[0m\u001b[0;34m\u001b[0m\u001b[0;34m\u001b[0m\u001b[0m\n\u001b[1;32m      4\u001b[0m \u001b[0mus_zipcode_data\u001b[0m\u001b[0;34m.\u001b[0m\u001b[0mhead\u001b[0m\u001b[0;34m(\u001b[0m\u001b[0;34m)\u001b[0m\u001b[0;34m\u001b[0m\u001b[0;34m\u001b[0m\u001b[0m\n",
      "\u001b[0;31mTypeError\u001b[0m: string indices must be integers"
     ]
    }
   ],
   "source": [
    "# Convert zip to string and and zfill to 5 digits\n",
    "us_zipcode_data[\"zip\"] = us_zipcode_data[\"zip\"].astype(str)\n",
    "us_zipcode_data[\"zip\"] = us_zipcode_data[\"zip\"].str.zfill(5)\n",
    "us_zipcode_data.head()"
   ]
  },
  {
   "cell_type": "code",
   "execution_count": 5,
   "metadata": {},
   "outputs": [
    {
     "ename": "TypeError",
     "evalue": "string indices must be integers",
     "output_type": "error",
     "traceback": [
      "\u001b[0;31m---------------------------------------------------------------------------\u001b[0m",
      "\u001b[0;31mTypeError\u001b[0m                                 Traceback (most recent call last)",
      "\u001b[0;32m<ipython-input-5-464bb74e1165>\u001b[0m in \u001b[0;36m<module>\u001b[0;34m\u001b[0m\n\u001b[1;32m      1\u001b[0m \u001b[0;31m# Limit pollution data columns\u001b[0m\u001b[0;34m\u001b[0m\u001b[0;34m\u001b[0m\u001b[0;34m\u001b[0m\u001b[0m\n\u001b[0;32m----> 2\u001b[0;31m \u001b[0mpollution_data\u001b[0m \u001b[0;34m=\u001b[0m \u001b[0mpollution_data\u001b[0m\u001b[0;34m[\u001b[0m\u001b[0;34m[\u001b[0m\u001b[0;34m\"State\"\u001b[0m\u001b[0;34m,\u001b[0m \u001b[0;34m\"County\"\u001b[0m\u001b[0;34m,\u001b[0m \u001b[0;34m\"City\"\u001b[0m\u001b[0;34m,\u001b[0m \u001b[0;34m\"Date Local\"\u001b[0m\u001b[0;34m,\u001b[0m \u001b[0;34m\"NO2 Units\"\u001b[0m\u001b[0;34m,\u001b[0m \u001b[0;34m\"NO2 Mean\"\u001b[0m\u001b[0;34m,\u001b[0m \u001b[0;34m\"NO2 AQI\"\u001b[0m\u001b[0;34m,\u001b[0m \u001b[0;34m\"O3 Units\"\u001b[0m\u001b[0;34m,\u001b[0m \u001b[0;34m\"O3 Mean\"\u001b[0m\u001b[0;34m,\u001b[0m \u001b[0;34m\"O3 AQI\"\u001b[0m\u001b[0;34m,\u001b[0m \u001b[0;34m\"SO2 Units\"\u001b[0m\u001b[0;34m,\u001b[0m \u001b[0;34m\"SO2 Mean\"\u001b[0m\u001b[0;34m,\u001b[0m \u001b[0;34m\"SO2 AQI\"\u001b[0m\u001b[0;34m,\u001b[0m \u001b[0;34m\"CO Units\"\u001b[0m\u001b[0;34m,\u001b[0m \u001b[0;34m\"CO Mean\"\u001b[0m\u001b[0;34m,\u001b[0m \u001b[0;34m\"CO AQI\"\u001b[0m\u001b[0;34m]\u001b[0m\u001b[0;34m]\u001b[0m\u001b[0;34m\u001b[0m\u001b[0;34m\u001b[0m\u001b[0m\n\u001b[0m\u001b[1;32m      3\u001b[0m \u001b[0mpollution_data\u001b[0m\u001b[0;34m.\u001b[0m\u001b[0mhead\u001b[0m\u001b[0;34m(\u001b[0m\u001b[0;34m)\u001b[0m\u001b[0;34m\u001b[0m\u001b[0;34m\u001b[0m\u001b[0m\n",
      "\u001b[0;31mTypeError\u001b[0m: string indices must be integers"
     ]
    }
   ],
   "source": [
    "# Limit pollution data columns\n",
    "pollution_data = pollution_data[[\"State\", \"County\", \"City\", \"Date Local\", \"NO2 Units\", \"NO2 Mean\", \"NO2 AQI\", \"O3 Units\", \"O3 Mean\", \"O3 AQI\", \"SO2 Units\", \"SO2 Mean\", \"SO2 AQI\", \"CO Units\", \"CO Mean\", \"CO AQI\"]]\n",
    "pollution_data.head()"
   ]
  },
  {
   "cell_type": "code",
   "execution_count": 6,
   "metadata": {},
   "outputs": [
    {
     "ename": "TypeError",
     "evalue": "Can only merge Series or DataFrame objects, a <class 'str'> was passed",
     "output_type": "error",
     "traceback": [
      "\u001b[0;31m---------------------------------------------------------------------------\u001b[0m",
      "\u001b[0;31mTypeError\u001b[0m                                 Traceback (most recent call last)",
      "\u001b[0;32m<ipython-input-6-9b042e214231>\u001b[0m in \u001b[0;36m<module>\u001b[0;34m\u001b[0m\n\u001b[1;32m      1\u001b[0m \u001b[0;31m# Join state abbreviation to pollution data\u001b[0m\u001b[0;34m\u001b[0m\u001b[0;34m\u001b[0m\u001b[0;34m\u001b[0m\u001b[0m\n\u001b[1;32m      2\u001b[0m \u001b[0;31m#WB_JH_WIKI_merge_df = pd.merge(WB_JH_merge_df,WIKI_population_df,on=\"Country Name\",how=\"outer\")\u001b[0m\u001b[0;34m\u001b[0m\u001b[0;34m\u001b[0m\u001b[0;34m\u001b[0m\u001b[0m\n\u001b[0;32m----> 3\u001b[0;31m \u001b[0mpollution_data\u001b[0m \u001b[0;34m=\u001b[0m \u001b[0mpd\u001b[0m\u001b[0;34m.\u001b[0m\u001b[0mmerge\u001b[0m\u001b[0;34m(\u001b[0m\u001b[0mpollution_data\u001b[0m\u001b[0;34m,\u001b[0m \u001b[0mus_zipcode_data\u001b[0m\u001b[0;34m,\u001b[0m \u001b[0mleft_on\u001b[0m\u001b[0;34m=\u001b[0m\u001b[0;34m'State'\u001b[0m\u001b[0;34m,\u001b[0m \u001b[0mright_on\u001b[0m\u001b[0;34m=\u001b[0m\u001b[0;34m'state_id'\u001b[0m\u001b[0;34m)\u001b[0m\u001b[0;34m\u001b[0m\u001b[0;34m\u001b[0m\u001b[0m\n\u001b[0m",
      "\u001b[0;32m/opt/anaconda3/lib/python3.8/site-packages/pandas/core/reshape/merge.py\u001b[0m in \u001b[0;36mmerge\u001b[0;34m(left, right, how, on, left_on, right_on, left_index, right_index, sort, suffixes, copy, indicator, validate)\u001b[0m\n\u001b[1;32m     71\u001b[0m     \u001b[0mvalidate\u001b[0m\u001b[0;34m=\u001b[0m\u001b[0;32mNone\u001b[0m\u001b[0;34m,\u001b[0m\u001b[0;34m\u001b[0m\u001b[0;34m\u001b[0m\u001b[0m\n\u001b[1;32m     72\u001b[0m ) -> \"DataFrame\":\n\u001b[0;32m---> 73\u001b[0;31m     op = _MergeOperation(\n\u001b[0m\u001b[1;32m     74\u001b[0m         \u001b[0mleft\u001b[0m\u001b[0;34m,\u001b[0m\u001b[0;34m\u001b[0m\u001b[0;34m\u001b[0m\u001b[0m\n\u001b[1;32m     75\u001b[0m         \u001b[0mright\u001b[0m\u001b[0;34m,\u001b[0m\u001b[0;34m\u001b[0m\u001b[0;34m\u001b[0m\u001b[0m\n",
      "\u001b[0;32m/opt/anaconda3/lib/python3.8/site-packages/pandas/core/reshape/merge.py\u001b[0m in \u001b[0;36m__init__\u001b[0;34m(self, left, right, how, on, left_on, right_on, axis, left_index, right_index, sort, suffixes, copy, indicator, validate)\u001b[0m\n\u001b[1;32m    569\u001b[0m         \u001b[0mvalidate\u001b[0m\u001b[0;34m=\u001b[0m\u001b[0;32mNone\u001b[0m\u001b[0;34m,\u001b[0m\u001b[0;34m\u001b[0m\u001b[0;34m\u001b[0m\u001b[0m\n\u001b[1;32m    570\u001b[0m     ):\n\u001b[0;32m--> 571\u001b[0;31m         \u001b[0m_left\u001b[0m \u001b[0;34m=\u001b[0m \u001b[0m_validate_operand\u001b[0m\u001b[0;34m(\u001b[0m\u001b[0mleft\u001b[0m\u001b[0;34m)\u001b[0m\u001b[0;34m\u001b[0m\u001b[0;34m\u001b[0m\u001b[0m\n\u001b[0m\u001b[1;32m    572\u001b[0m         \u001b[0m_right\u001b[0m \u001b[0;34m=\u001b[0m \u001b[0m_validate_operand\u001b[0m\u001b[0;34m(\u001b[0m\u001b[0mright\u001b[0m\u001b[0;34m)\u001b[0m\u001b[0;34m\u001b[0m\u001b[0;34m\u001b[0m\u001b[0m\n\u001b[1;32m    573\u001b[0m         \u001b[0mself\u001b[0m\u001b[0;34m.\u001b[0m\u001b[0mleft\u001b[0m \u001b[0;34m=\u001b[0m \u001b[0mself\u001b[0m\u001b[0;34m.\u001b[0m\u001b[0morig_left\u001b[0m \u001b[0;34m=\u001b[0m \u001b[0m_left\u001b[0m\u001b[0;34m\u001b[0m\u001b[0;34m\u001b[0m\u001b[0m\n",
      "\u001b[0;32m/opt/anaconda3/lib/python3.8/site-packages/pandas/core/reshape/merge.py\u001b[0m in \u001b[0;36m_validate_operand\u001b[0;34m(obj)\u001b[0m\n\u001b[1;32m   2004\u001b[0m             \u001b[0;32mreturn\u001b[0m \u001b[0mobj\u001b[0m\u001b[0;34m.\u001b[0m\u001b[0mto_frame\u001b[0m\u001b[0;34m(\u001b[0m\u001b[0;34m)\u001b[0m\u001b[0;34m\u001b[0m\u001b[0;34m\u001b[0m\u001b[0m\n\u001b[1;32m   2005\u001b[0m     \u001b[0;32melse\u001b[0m\u001b[0;34m:\u001b[0m\u001b[0;34m\u001b[0m\u001b[0;34m\u001b[0m\u001b[0m\n\u001b[0;32m-> 2006\u001b[0;31m         raise TypeError(\n\u001b[0m\u001b[1;32m   2007\u001b[0m             \u001b[0;34m\"Can only merge Series or DataFrame objects, \"\u001b[0m\u001b[0;34m\u001b[0m\u001b[0;34m\u001b[0m\u001b[0m\n\u001b[1;32m   2008\u001b[0m             \u001b[0;34m\"a {obj} was passed\"\u001b[0m\u001b[0;34m.\u001b[0m\u001b[0mformat\u001b[0m\u001b[0;34m(\u001b[0m\u001b[0mobj\u001b[0m\u001b[0;34m=\u001b[0m\u001b[0mtype\u001b[0m\u001b[0;34m(\u001b[0m\u001b[0mobj\u001b[0m\u001b[0;34m)\u001b[0m\u001b[0;34m)\u001b[0m\u001b[0;34m\u001b[0m\u001b[0;34m\u001b[0m\u001b[0m\n",
      "\u001b[0;31mTypeError\u001b[0m: Can only merge Series or DataFrame objects, a <class 'str'> was passed"
     ]
    }
   ],
   "source": [
    "# Join state abbreviation to pollution data\n",
    "#WB_JH_WIKI_merge_df = pd.merge(WB_JH_merge_df,WIKI_population_df,on=\"Country Name\",how=\"outer\")\n",
    "pollution_data = pd.merge(pollution_data, us_zipcode_data, left_on='State', right_on='state_id')"
   ]
  },
  {
   "cell_type": "code",
   "execution_count": null,
   "metadata": {},
   "outputs": [],
   "source": []
  },
  {
   "cell_type": "code",
   "execution_count": null,
   "metadata": {},
   "outputs": [],
   "source": []
  },
  {
   "cell_type": "code",
   "execution_count": null,
   "metadata": {},
   "outputs": [],
   "source": []
  },
  {
   "cell_type": "code",
   "execution_count": 96,
   "metadata": {},
   "outputs": [],
   "source": [
    "# Drop duplicates by city and date since the means are the same for the day\n",
    "# df.drop_duplicates(subset=['bio', 'center', 'outcome'])\n",
    "pollution_data = pollution_data.drop_duplicates(subset=[\"Date Local\",\"City\"])"
   ]
  },
  {
   "cell_type": "code",
   "execution_count": 97,
   "metadata": {},
   "outputs": [
    {
     "data": {
      "text/html": [
       "<div>\n",
       "<style scoped>\n",
       "    .dataframe tbody tr th:only-of-type {\n",
       "        vertical-align: middle;\n",
       "    }\n",
       "\n",
       "    .dataframe tbody tr th {\n",
       "        vertical-align: top;\n",
       "    }\n",
       "\n",
       "    .dataframe thead th {\n",
       "        text-align: right;\n",
       "    }\n",
       "</style>\n",
       "<table border=\"1\" class=\"dataframe\">\n",
       "  <thead>\n",
       "    <tr style=\"text-align: right;\">\n",
       "      <th></th>\n",
       "      <th>City</th>\n",
       "      <th>NO2 average</th>\n",
       "      <th>NO2 AQI average</th>\n",
       "      <th>O3 average</th>\n",
       "      <th>O3 AQI average</th>\n",
       "      <th>SO2 average</th>\n",
       "      <th>SO2 AQI average</th>\n",
       "      <th>CO average</th>\n",
       "      <th>CO AQI average</th>\n",
       "    </tr>\n",
       "  </thead>\n",
       "  <tbody>\n",
       "    <tr>\n",
       "      <th>0</th>\n",
       "      <td>Albuquerque</td>\n",
       "      <td>12.332948</td>\n",
       "      <td>24.462787</td>\n",
       "      <td>0.031711</td>\n",
       "      <td>41.332401</td>\n",
       "      <td>0.627877</td>\n",
       "      <td>1.179071</td>\n",
       "      <td>0.210632</td>\n",
       "      <td>NaN</td>\n",
       "    </tr>\n",
       "    <tr>\n",
       "      <th>1</th>\n",
       "      <td>Alexandria</td>\n",
       "      <td>14.920865</td>\n",
       "      <td>27.141593</td>\n",
       "      <td>0.029564</td>\n",
       "      <td>41.183118</td>\n",
       "      <td>1.958001</td>\n",
       "      <td>10.456093</td>\n",
       "      <td>0.253064</td>\n",
       "      <td>NaN</td>\n",
       "    </tr>\n",
       "    <tr>\n",
       "      <th>2</th>\n",
       "      <td>Altoona</td>\n",
       "      <td>9.806594</td>\n",
       "      <td>20.690928</td>\n",
       "      <td>0.027661</td>\n",
       "      <td>41.868671</td>\n",
       "      <td>4.157674</td>\n",
       "      <td>18.289030</td>\n",
       "      <td>0.152707</td>\n",
       "      <td>NaN</td>\n",
       "    </tr>\n",
       "    <tr>\n",
       "      <th>3</th>\n",
       "      <td>Annandale</td>\n",
       "      <td>12.544267</td>\n",
       "      <td>25.210682</td>\n",
       "      <td>0.028414</td>\n",
       "      <td>38.141444</td>\n",
       "      <td>4.405795</td>\n",
       "      <td>13.986152</td>\n",
       "      <td>0.427304</td>\n",
       "      <td>NaN</td>\n",
       "    </tr>\n",
       "    <tr>\n",
       "      <th>4</th>\n",
       "      <td>Arden-Arcade</td>\n",
       "      <td>10.613089</td>\n",
       "      <td>20.507664</td>\n",
       "      <td>0.025796</td>\n",
       "      <td>40.593183</td>\n",
       "      <td>0.993667</td>\n",
       "      <td>2.654901</td>\n",
       "      <td>0.402340</td>\n",
       "      <td>NaN</td>\n",
       "    </tr>\n",
       "  </tbody>\n",
       "</table>\n",
       "</div>"
      ],
      "text/plain": [
       "           City  NO2 average  NO2 AQI average  O3 average  O3 AQI average  \\\n",
       "0   Albuquerque    12.332948        24.462787    0.031711       41.332401   \n",
       "1    Alexandria    14.920865        27.141593    0.029564       41.183118   \n",
       "2       Altoona     9.806594        20.690928    0.027661       41.868671   \n",
       "3     Annandale    12.544267        25.210682    0.028414       38.141444   \n",
       "4  Arden-Arcade    10.613089        20.507664    0.025796       40.593183   \n",
       "\n",
       "   SO2 average  SO2 AQI average  CO average  CO AQI average  \n",
       "0     0.627877         1.179071    0.210632             NaN  \n",
       "1     1.958001        10.456093    0.253064             NaN  \n",
       "2     4.157674        18.289030    0.152707             NaN  \n",
       "3     4.405795        13.986152    0.427304             NaN  \n",
       "4     0.993667         2.654901    0.402340             NaN  "
      ]
     },
     "execution_count": 97,
     "metadata": {},
     "output_type": "execute_result"
    }
   ],
   "source": [
    "# Determines means for pollution statistics by city\n",
    "NO2_mean_calc = pollution_data.groupby(\"City\")[\"NO2 Mean\"].mean() \n",
    "NO2_AQI_calc = pollution_data.groupby(\"City\")[\"NO2 AQI\"].mean() \n",
    "O3_mean_calc = pollution_data.groupby(\"City\")[\"O3 Mean\"].mean()\n",
    "O3_AQI_calc = pollution_data.groupby(\"City\")[\"O3 AQI\"].mean()\n",
    "SO2_mean_calc = pollution_data.groupby(\"City\")[\"SO2 Mean\"].mean()\n",
    "SO2_AQI_calc = pollution_data.groupby(\"City\")[\"SO2 AQI\"].mean()\n",
    "CO_mean_calc = pollution_data.groupby(\"City\")[\"CO Mean\"].mean()\n",
    "CO_AQI_calc = pollution_data.groupby(\"City\")[\"CO AQI\"].mean()\n",
    "means_by_city = pd.DataFrame({\"NO2 average\": NO2_mean_calc, \"NO2 AQI average\": NO2_AQI_calc, \"O3 average\": O3_mean_calc, \"O3 AQI average\": O3_AQI_calc, \"SO2 average\": SO2_mean_calc, \"SO2 AQI average\": SO2_AQI_calc, \"CO average\": CO_mean_calc, \"CO AQI average\": CO_AQI_calc,})\n",
    "means_by_city.reset_index(inplace=True)\n",
    "means_by_city.head()"
   ]
  },
  {
   "cell_type": "code",
   "execution_count": null,
   "metadata": {},
   "outputs": [],
   "source": []
  },
  {
   "cell_type": "code",
   "execution_count": null,
   "metadata": {},
   "outputs": [],
   "source": []
  }
 ],
 "metadata": {
  "kernelspec": {
   "display_name": "Python 3",
   "language": "python",
   "name": "python3"
  },
  "language_info": {
   "codemirror_mode": {
    "name": "ipython",
    "version": 3
   },
   "file_extension": ".py",
   "mimetype": "text/x-python",
   "name": "python",
   "nbconvert_exporter": "python",
   "pygments_lexer": "ipython3",
   "version": "3.8.3"
  }
 },
 "nbformat": 4,
 "nbformat_minor": 4
}
